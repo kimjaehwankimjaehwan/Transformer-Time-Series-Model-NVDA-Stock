{
 "cells": [
  {
   "cell_type": "code",
   "execution_count": 20,
   "metadata": {},
   "outputs": [],
   "source": [
    "import math\n",
    "import torch\n",
    "import datetime\n",
    "import numpy as np\n",
    "import pandas as pd\n",
    "import yfinance as yf\n",
    "import matplotlib.pyplot as plt\n",
    "\n",
    "import torch.nn as nn\n",
    "import torch.optim as optim\n",
    "from torch.utils.data import Dataset\n",
    "from torch.utils.data import TensorDataset, DataLoader\n",
    "from sklearn.preprocessing import MinMaxScaler\n",
    "from sklearn.model_selection import train_test_split\n",
    "\n",
    "# Fetch and preprocess data yf.download\n",
    "ticker_symbol = 'NVDA'\n",
    "start_date = datetime.datetime(2022, 1, 1)\n",
    "end_date = datetime.datetime(2025, 1, 1)\n"
   ]
  },
  {
   "cell_type": "code",
   "execution_count": 6,
   "metadata": {},
   "outputs": [],
   "source": [
    "data = pd.read_csv('nvda_tf.csv',index_col='Date')\n"
   ]
  },
  {
   "cell_type": "code",
   "execution_count": 8,
   "metadata": {},
   "outputs": [
    {
     "data": {
      "image/png": "[encoded data removed]",
      "text/plain": [
       "<Figure size 1000x500 with 1 Axes>"
      ]
     },
     "metadata": {},
     "output_type": "display_data"
    }
   ],
   "source": [
    "plt.figure(figsize=(10, 5))\n",
    "plt.plot(data['Close'].tail(5))\n",
    "plt.title('Stock Price')\n",
    "plt.xlabel('Date')\n",
    "plt.ylabel('Price')\n",
    "plt.show()"
   ]
  },
  {
   "cell_type": "code",
   "execution_count": 21,
   "metadata": {},
   "outputs": [],
   "source": [
    "# Define your independent variables (features)\n",
    "features = ['SMA_Signal', 'MACD_Signal', 'RSI_Signal', 'BB_Signal',\n",
    "       'Stochastic_Signal', 'Combined_Signal', 'Volume']\n",
    "\n",
    "# Initialize MinMaxScaler\n",
    "scaler = MinMaxScaler()\n",
    "\n",
    "# Normalize the features\n",
    "data[features] = scaler.fit_transform(data[features])"
   ]
  },
  {
   "cell_type": "code",
   "execution_count": 10,
   "metadata": {},
   "outputs": [
    {
     "data": {
      "text/plain": [
       "Date\n",
       "2024-05-22     949.50000\n",
       "2024-05-23    1037.98999\n",
       "Name: Close, dtype: float64"
      ]
     },
     "execution_count": 10,
     "metadata": {},
     "output_type": "execute_result"
    }
   ],
   "source": [
    "data.iloc[599:601, -1]"
   ]
  },
  {
   "cell_type": "code",
   "execution_count": 24,
   "metadata": {},
   "outputs": [
    {
     "name": "stdout",
     "output_type": "stream",
     "text": [
      "X Shape: (571, 30, 7)\n",
      "Y Shape: (571,)\n"
     ]
    }
   ],
   "source": [
    "# Create sequences\n",
    "sequence_length = 30\n",
    "\n",
    "def create_sequences(data, sequence_length):\n",
    "    X, y = [], []\n",
    "    for i in range(len(data) - sequence_length):\n",
    "        X.append(data[i:i+sequence_length, :-1])  # Features (excluding the \"Close\" price)\n",
    "        y.append(data[i+sequence_length, -1])    # Target variable (\"Close\" price)\n",
    "    return np.array(X), np.array(y) \n",
    "     \n",
    "X, y = create_sequences(data.to_numpy(), sequence_length)\n",
    "\n",
    "print('X Shape:', X.shape)\n",
    "print('Y Shape:', y.shape)"
   ]
  },
  {
   "cell_type": "code",
   "execution_count": 25,
   "metadata": {},
   "outputs": [
    {
     "name": "stdout",
     "output_type": "stream",
     "text": [
      "(456, 30, 7) (456,)\n",
      "(57, 30, 7) (57,)\n",
      "(58, 30, 7) (58,)\n"
     ]
    }
   ],
   "source": [
    "# Split data into train, validation, and test sets\n",
    "X_train, X_temp, y_train, y_temp = train_test_split(X, y, test_size=0.2, random_state=42)\n",
    "X_val, X_test, y_val, y_test = train_test_split(X_temp, y_temp, test_size=0.5, random_state=42)\n",
    "\n",
    "print(X_train.shape, y_train.shape)\n",
    "print(X_val.shape, y_val.shape)\n",
    "print(X_test.shape, y_test.shape)"
   ]
  },
  {
   "cell_type": "code",
   "execution_count": 16,
   "metadata": {},
   "outputs": [
    {
     "name": "stdout",
     "output_type": "stream",
     "text": [
      "X_batch shape: torch.Size([32, 30, 7])\n",
      "y_batch shape: torch.Size([32])\n"
     ]
    }
   ],
   "source": [
    "# Convert to PyTorch tensors\n",
    "X_train_tensor = torch.tensor(X_train, dtype=torch.float32)\n",
    "y_train_tensor = torch.tensor(y_train, dtype=torch.float32)\n",
    "X_val_tensor = torch.tensor(X_val, dtype=torch.float32)\n",
    "y_val_tensor = torch.tensor(y_val, dtype=torch.float32)\n",
    "X_test_tensor = torch.tensor(X_test, dtype=torch.float32)\n",
    "y_test_tensor = torch.tensor(y_test, dtype=torch.float32)\n",
    "\n",
    "# Create TensorDataset\n",
    "train_dataset = TensorDataset(X_train_tensor, y_train_tensor)\n",
    "val_dataset = TensorDataset(X_val_tensor, y_val_tensor)\n",
    "test_dataset = TensorDataset(X_test_tensor, y_test_tensor)\n",
    "\n",
    "# Create DataLoader\n",
    "batch_size = 32\n",
    "train_loader = DataLoader(train_dataset, batch_size=batch_size, shuffle=True)\n",
    "val_loader = DataLoader(val_dataset, batch_size=batch_size)\n",
    "test_loader = DataLoader(test_dataset, batch_size=batch_size)\n",
    "\n",
    "\n",
    "for X_batch, y_batch in train_loader:\n",
    "    print(f'X_batch shape: {X_batch.shape}')\n",
    "    print(f'y_batch shape: {y_batch.shape}')\n",
    "    break  # Check the shape for one batch and exit"
   ]
  },
  {
   "cell_type": "code",
   "execution_count": 27,
   "metadata": {},
   "outputs": [],
   "source": [
    "# Transformer\n",
    "\n",
    "class TimeSeriesTransformer(nn.Module):\n",
    "    def __init__(self, input_dim, d_model, nhead, num_layers, dropout=0.1):\n",
    "        super(TimeSeriesTransformer, self).__init__()\n",
    "\n",
    "        # Embedding layer\n",
    "        self.embedding = nn.Linear(input_dim, d_model)\n",
    "        \n",
    "        # Positional encoding\n",
    "        self.positional_encoding = self._init_positional_encoding(d_model, max_len=5000)\n",
    "        \n",
    "        self.transformer = nn.TransformerEncoder(\n",
    "            nn.TransformerEncoderLayer(d_model=d_model, nhead=nhead, dropout=dropout),\n",
    "            num_layers=num_layers\n",
    "        )\n",
    "        self.fc_out = nn.Linear(d_model, 1)\n",
    "\n",
    "    def _init_positional_encoding(self, d_model, max_len):\n",
    "        pe = torch.zeros(max_len, d_model)\n",
    "        position = torch.arange(0, max_len, dtype=torch.float).unsqueeze(1)\n",
    "        div_term = torch.exp(torch.arange(0, d_model, 2).float() * (-math.log(10000.0) / d_model))\n",
    "        pe[:, 0::2] = torch.sin(position * div_term)\n",
    "        pe[:, 1::2] = torch.cos(position * div_term)\n",
    "        pe = pe.unsqueeze(0)\n",
    "        return pe\n",
    "\n",
    "    def forward(self, x):\n",
    "        x = self.embedding(x)\n",
    "        seq_len = x.size(1)\n",
    "        x += self.positional_encoding[:, :seq_len, :]\n",
    "        x = self.transformer(x)\n",
    "        x = self.fc_out(x[:, -1, :])  # Use the output from the last time step\n",
    "        return x\n",
    "\n",
    "\n"
   ]
  },
  {
   "cell_type": "code",
   "execution_count": 31,
   "metadata": {},
   "outputs": [],
   "source": [
    "# Time Series\n",
    "\n",
    "class TimeSeriesDataset(Dataset):\n",
    "    def __init__(self, data, seq_length):\n",
    "        self.data = data\n",
    "        self.seq_length = seq_length\n",
    "\n",
    "    def __len__(self):\n",
    "        return len(self.data) - self.seq_length\n",
    "\n",
    "    def __getitem__(self, idx):\n",
    "        x = self.data[idx:idx + self.seq_length, :-1]  # All columns except the last one (target)\n",
    "        y = self.data[idx + self.seq_length - 1, -1]  # The last column (target)\n",
    "        return x, y"
   ]
  },
  {
   "cell_type": "code",
   "execution_count": 28,
   "metadata": {},
   "outputs": [],
   "source": [
    "# Hyperparameters\n",
    "seq_length = 30\n",
    "batch_size = 32\n",
    "input_dim = len(data.columns) - 1  # Number of input features (excluding the target column)\n",
    "d_model = 64  # Dimension of the embedding\n",
    "nhead = 4  # Number of attention heads\n",
    "num_layers = 2  # Number of transformer layers\n",
    "dropout = 0.1  # Dropout rate\n",
    "num_epochs = 5  # Number of epochs to train the model"
   ]
  },
  {
   "cell_type": "code",
   "execution_count": 32,
   "metadata": {},
   "outputs": [],
   "source": [
    "# Define model, criterion, and optimizer\n",
    "model = TimeSeriesTransformer(input_dim, d_model, nhead, num_layers, dropout)\n",
    "criterion = nn.MSELoss()\n",
    "optimizer = optim.Adam(model.parameters(), lr=0.001)"
   ]
  },
  {
   "cell_type": "code",
   "execution_count": 37,
   "metadata": {},
   "outputs": [
    {
     "name": "stdout",
     "output_type": "stream",
     "text": [
      "Best hyperparameters:\n",
      "Learning rate: 0.07985775569916308\n",
      "Number of layers: 3\n",
      "Dropout rate: 0.41187640010910787\n"
     ]
    }
   ],
   "source": [
    "from skopt import gp_minimize\n",
    "from skopt.space import Real, Integer, Categorical\n",
    "from skopt.utils import use_named_args\n",
    "from sklearn.metrics import r2_score\n",
    "\n",
    "# Define the search space\n",
    "space = [\n",
    "    Real(0.001, 0.1, name='lr'),  # Learning rate\n",
    "    Integer(2, 6, name='num_layers'),  # Number of layers\n",
    "    Real(0.1, 0.5, name='dropout')  # Dropout rate\n",
    "]\n",
    "\n",
    "# Define the objective function\n",
    "@use_named_args(space)\n",
    "def objective(lr, num_layers, dropout):\n",
    "    # Define model, criterion, and optimizer\n",
    "    model = TimeSeriesTransformer(input_dim, d_model, nhead, num_layers, dropout)\n",
    "    criterion = nn.MSELoss()\n",
    "    optimizer = optim.Adam(model.parameters(), lr=lr)\n",
    "    \n",
    "    # Training loop\n",
    "    # Validation loop\n",
    "    \n",
    "    # Calculate validation R2 score\n",
    "    val_r2 = r2_score(val_targets, val_predictions)\n",
    "    \n",
    "    return -val_r2  # Minimize negative R2 score\n",
    "\n",
    "# Run Bayesian optimization\n",
    "res = gp_minimize(objective, space, n_calls=20, random_state=42)\n",
    "\n",
    "# Get best hyperparameters\n",
    "best_lr, best_num_layers, best_dropout = res.x\n",
    "\n",
    "print(\"Best hyperparameters:\")\n",
    "print(\"Learning rate:\", best_lr)\n",
    "print(\"Number of layers:\", best_num_layers)\n",
    "print(\"Dropout rate:\", best_dropout)\n"
   ]
  },
  {
   "cell_type": "code",
   "execution_count": null,
   "metadata": {},
   "outputs": [
    {
     "name": "stdout",
     "output_type": "stream",
     "text": [
      "Final Test Loss: 86137.4095, Test R2: -0.0034\n"
     ]
    }
   ],
   "source": [
    "# Define model with best hyperparameters\n",
    "best_model = TimeSeriesTransformer(input_dim, d_model, nhead, best_num_layers, best_dropout)\n",
    "criterion = nn.MSELoss()\n",
    "optimizer = optim.Adam(best_model.parameters(), lr=best_lr)\n",
    "\n",
    "# Training loop for final model\n",
    "for epoch in range(num_epochs):\n",
    "    best_model.train()\n",
    "    train_loss = 0.0\n",
    "    \n",
    "    for X_batch, y_batch in train_loader:\n",
    "        X_batch, y_batch = X_batch.float(), y_batch.float()\n",
    "        optimizer.zero_grad()\n",
    "        outputs = best_model(X_batch)\n",
    "        loss = criterion(outputs.squeeze(), y_batch)\n",
    "        loss.backward()\n",
    "        optimizer.step()\n",
    "        train_loss += loss.item() * X_batch.size(0)\n",
    "\n",
    "    train_loss /= len(train_loader.dataset)\n",
    "\n",
    "\n"
   ]
  },
  {
   "cell_type": "code",
   "execution_count": 40,
   "metadata": {},
   "outputs": [
    {
     "name": "stdout",
     "output_type": "stream",
     "text": [
      "Final Test Loss: 86137.4095, Test R2: -0.0034\n"
     ]
    }
   ],
   "source": [
    "# Testing the final model\n",
    "best_model.eval()\n",
    "test_loss = 0.0\n",
    "test_predictions = []\n",
    "test_targets = []\n",
    "\n",
    "with torch.no_grad():\n",
    "    for X_test_batch, y_test_batch in test_loader:\n",
    "        X_test_batch, y_test_batch = X_test_batch.float(), y_test_batch.float()\n",
    "        test_outputs = best_model(X_test_batch)\n",
    "        test_loss += criterion(test_outputs.squeeze(), y_test_batch).item() * X_test_batch.size(0)\n",
    "        test_predictions.extend(test_outputs.squeeze().tolist())\n",
    "        test_targets.extend(y_test_batch.tolist())\n",
    "\n",
    "test_loss /= len(test_loader.dataset)\n",
    "test_r2 = r2_score(test_targets, test_predictions)\n",
    "\n",
    "print(f'Final Test Loss: {test_loss:.4f}, Test R2: {test_r2:.4f}')"
   ]
  }
 ],
 "metadata": {
  "kernelspec": {
   "display_name": "base",
   "language": "python",
   "name": "python3"
  },
  "language_info": {
   "codemirror_mode": {
    "name": "ipython",
    "version": 3
   },
   "file_extension": ".py",
   "mimetype": "text/x-python",
   "name": "python",
   "nbconvert_exporter": "python",
   "pygments_lexer": "ipython3",
   "version": "3.10.12"
  }
 },
 "nbformat": 4,
 "nbformat_minor": 2
}
